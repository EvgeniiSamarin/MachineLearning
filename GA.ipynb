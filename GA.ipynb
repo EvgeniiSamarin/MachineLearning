{
  "nbformat": 4,
  "nbformat_minor": 0,
  "metadata": {
    "colab": {
      "provenance": []
    },
    "kernelspec": {
      "name": "python3",
      "display_name": "Python 3"
    },
    "language_info": {
      "name": "python"
    }
  },
  "cells": [
    {
      "cell_type": "code",
      "execution_count": 1,
      "metadata": {
        "colab": {
          "base_uri": "https://localhost:8080/"
        },
        "id": "5fJLRUcQ4Hgm",
        "outputId": "4c2cf847-b4c5-40fa-96a1-d858149929bb"
      },
      "outputs": [
        {
          "output_type": "stream",
          "name": "stdout",
          "text": [
            "9999999\n",
            "129\n",
            "83\n",
            "54\n",
            "32\n",
            "26\n",
            "20\n",
            "16\n",
            "15\n",
            "12\n",
            "15\n",
            "10\n",
            "10\n",
            "8\n",
            "6\n",
            "7\n",
            "3\n",
            "5\n",
            "14\n",
            "6\n",
            "7\n",
            "Best solution :  [[10  2 10  1 12]\n",
            " [10  2 10  1 12]\n",
            " [10  2 10  1 12]\n",
            " [10  2 10  1 12]]\n",
            "Best solution fitness :  0\n",
            "Result :  125\n"
          ]
        }
      ],
      "source": [
        "import numpy as np\n",
        "import random\n",
        "\n",
        "def fitness_func(coefficients, population, result):\n",
        "  fitness = np.sum(population * coefficients, axis=1)\n",
        "  return abs(result - fitness)\n",
        "\n",
        "def select_parents(population, fitness, num_parents):\n",
        "  parents = []\n",
        "  for parent_num in range(num_parents):\n",
        "    min_firness = np.min(fitness)\n",
        "    min_fitness_idx = np.where(fitness == min_firness)[0][0]\n",
        "    parents.append(population[min_fitness_idx])\n",
        "    fitness[min_fitness_idx] = 99999999999\n",
        "\n",
        "  return np.array(parents)\n",
        "\n",
        "def crossover(parents, children_count, size):\n",
        "  childrens = np.empty((children_count, size))\n",
        "  center = np.floor(size/2).astype(int)\n",
        "\n",
        "  for k in range(children_count):\n",
        "    parent1_idx = k % parents.shape[0]\n",
        "    parent2_idx = (k+1) % parents.shape[0]\n",
        "    childrens[k, 0:center] = parents[parent1_idx, 0:center]\n",
        "    childrens[k, center:] = parents[parent2_idx, center:]\n",
        "  return childrens\n",
        "\n",
        "def mutation(childrens, size):\n",
        "  for idx in range(childrens.shape[0]):\n",
        "    random_value = random.randint(0, 10)\n",
        "    random_index = random.randint(0, size - 1)\n",
        "    childrens[idx, random_index] = childrens[idx, random_index] + random_value\n",
        "\n",
        "  return childrens\n",
        "\n",
        "coefficients = [7, 8, 1, 5, 2]\n",
        "result = 125\n",
        "items_count = 8\n",
        "parents_size = 4\n",
        "\n",
        "pop_size = (items_count, len(coefficients))\n",
        "\n",
        "new_population = np.random.randint(low=-4.0, high=4.0, size=pop_size)\n",
        "min_fitness = 9999999\n",
        "\n",
        "num_generations = 10\n",
        "while min_fitness > 2:\n",
        "  fitness = fitness_func(coefficients, new_population, result)\n",
        "\n",
        "  parents = select_parents(new_population, fitness, parents_size)\n",
        "  childrens = crossover(parents, items_count - parents_size, len(coefficients))\n",
        "  childrens = mutation(childrens, len(coefficients))\n",
        "\n",
        "  new_population[0:parents.shape[0],] = parents\n",
        "  new_population[parents.shape[0]:] = childrens\n",
        "  print(min_fitness)\n",
        "  min_fitness = np.min(fitness)\n",
        "\n",
        "fitness = fitness_func(coefficients, new_population, result)\n",
        "best_match_idx = np.where(fitness == np.min(fitness))\n",
        "\n",
        "print(\"Best solution : \", new_population[best_match_idx])\n",
        "print(\"Best solution fitness : \", fitness[best_match_idx][0])\n",
        "print(\"Result : \", np.sum(new_population[best_match_idx][0] * coefficients))"
      ]
    }
  ]
}